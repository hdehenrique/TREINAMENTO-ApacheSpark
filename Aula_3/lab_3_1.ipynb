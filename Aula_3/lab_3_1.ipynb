{
  "metadata" : {
    "config" : {
      "dependencies" : {
        
      },
      "exclusions" : [
      ],
      "repositories" : [
      ],
      "sparkConfig" : {
        "spark.master" : "local[*]"
      },
      "env" : {
        
      }
    },
    "language_info" : {
      "name" : "scala"
    }
  },
  "nbformat" : 4,
  "nbformat_minor" : 0,
  "cells" : [
    {
      "cell_type" : "markdown",
      "execution_count" : 0,
      "metadata" : {
        "language" : "text"
      },
      "language" : "text",
      "source" : [
        "# lab 3\n",
        "\n",
        "\n",
        "This is a text cell. Start editing!\n",
        "\n",
        "\n"
      ],
      "outputs" : [
      ]
    },
    {
      "cell_type" : "code",
      "execution_count" : 1,
      "metadata" : {
        "cell.metadata.exec_info" : {
          "startTs" : 1599776088450,
          "endTs" : 1599776089021
        },
        "language" : "scala"
      },
      "language" : "scala",
      "source" : [
        "val f = spark.sparkContext.textFile(\"/home/ec2-user/lab/twinkle/sample.txt\")"
      ],
      "outputs" : [
      ]
    },
    {
      "cell_type" : "code",
      "execution_count" : 2,
      "metadata" : {
        "cell.metadata.exec_info" : {
          "startTs" : 1599776090771,
          "endTs" : 1599776091254
        },
        "language" : "scala"
      },
      "language" : "scala",
      "source" : [
        "val filtered = f.filter(line => line.contains(\"twinkle\"))"
      ],
      "outputs" : [
      ]
    },
    {
      "cell_type" : "code",
      "execution_count" : 3,
      "metadata" : {
        "cell.metadata.exec_info" : {
          "startTs" : 1599775996672,
          "endTs" : 1599775996801
        },
        "language" : "scala"
      },
      "language" : "scala",
      "source" : [
        "spark.sparkContext.setLogLevel(\"INFO\")"
      ],
      "outputs" : [
      ]
    },
    {
      "cell_type" : "code",
      "execution_count" : 4,
      "metadata" : {
        "cell.metadata.exec_info" : {
          "startTs" : 1599776162848,
          "endTs" : 1599776163447
        },
        "language" : "scala"
      },
      "language" : "scala",
      "source" : [
        "val filtered_2 = f.filter(line =>line.contains(\"twinkle\"))"
      ],
      "outputs" : [
      ]
    },
    {
      "cell_type" : "code",
      "execution_count" : 5,
      "metadata" : {
        "cell.metadata.exec_info" : {
          "startTs" : 1599776721235,
          "endTs" : 1599776721392
        },
        "language" : "scala"
      },
      "language" : "scala",
      "source" : [
        "filtered_2.count()"
      ],
      "outputs" : [
        {
          "execution_count" : 5,
          "data" : {
            "text/plain" : [
              "2"
            ]
          },
          "metadata" : {
            "name" : "Out",
            "type" : "Long"
          },
          "output_type" : "execute_result"
        }
      ]
    },
    {
      "cell_type" : "code",
      "execution_count" : 6,
      "metadata" : {
        "cell.metadata.exec_info" : {
          "startTs" : 1599776995589,
          "endTs" : 1599776995700
        },
        "language" : "scala"
      },
      "language" : "scala",
      "source" : [
        "spark.sparkContext.setLogLevel(\"WARN\")"
      ],
      "outputs" : [
      ]
    },
    {
      "cell_type" : "code",
      "execution_count" : 7,
      "metadata" : {
        "cell.metadata.exec_info" : {
          "startTs" : 1599777167639,
          "endTs" : 1599777168016
        },
        "language" : "scala"
      },
      "language" : "scala",
      "source" : [
        "val f = spark.sparkContext.textFile(\"/home/ec2-user/lab/twinkle/100M.data\")"
      ],
      "outputs" : [
      ]
    },
    {
      "cell_type" : "code",
      "execution_count" : 8,
      "metadata" : {
        "cell.metadata.exec_info" : {
          "startTs" : 1599777175721,
          "endTs" : 1599777176196
        },
        "language" : "scala"
      },
      "language" : "scala",
      "source" : [
        "val filtered_3 = f.filter(line =>line.contains(\"diamond\"))"
      ],
      "outputs" : [
      ]
    },
    {
      "cell_type" : "code",
      "execution_count" : 9,
      "metadata" : {
        "cell.metadata.exec_info" : {
          "startTs" : 1599777420442,
          "endTs" : 1599777421684
        },
        "language" : "scala"
      },
      "language" : "scala",
      "source" : [
        "filtered_3.count()"
      ],
      "outputs" : [
        {
          "execution_count" : 9,
          "data" : {
            "text/plain" : [
              "776723"
            ]
          },
          "metadata" : {
            "name" : "Out",
            "type" : "Long"
          },
          "output_type" : "execute_result"
        }
      ]
    },
    {
      "cell_type" : "code",
      "execution_count" : 10,
      "metadata" : {
        "cell.metadata.exec_info" : {
          "startTs" : 1599777431738,
          "endTs" : 1599777432069
        },
        "language" : "scala"
      },
      "language" : "scala",
      "source" : [
        "val filtered_3 = f.filter(line => !line.contains(\"diamond\"))"
      ],
      "outputs" : [
      ]
    },
    {
      "cell_type" : "code",
      "execution_count" : 11,
      "metadata" : {
        "cell.metadata.exec_info" : {
          "startTs" : 1599777532070,
          "endTs" : 1599777532440
        },
        "language" : "scala"
      },
      "language" : "scala",
      "source" : [
        "val f = spark.sparkContext.textFile(\"/home/ec2-user/lab/twinkle/500M.data\")"
      ],
      "outputs" : [
      ]
    },
    {
      "cell_type" : "code",
      "execution_count" : 12,
      "metadata" : {
        "cell.metadata.exec_info" : {
          "startTs" : 1599777615079,
          "endTs" : 1599777615470
        },
        "language" : "scala"
      },
      "language" : "scala",
      "source" : [
        "val filtered_4 = f.filter(line => line.contains(\"diamond\"))"
      ],
      "outputs" : [
      ]
    },
    {
      "cell_type" : "code",
      "execution_count" : 13,
      "metadata" : {
        "cell.metadata.exec_info" : {
          "startTs" : 1599777641658,
          "endTs" : 1599777646246
        },
        "language" : "scala"
      },
      "language" : "scala",
      "source" : [
        "filtered_4.count()"
      ],
      "outputs" : [
        {
          "execution_count" : 13,
          "data" : {
            "text/plain" : [
              "3883615"
            ]
          },
          "metadata" : {
            "name" : "Out",
            "type" : "Long"
          },
          "output_type" : "execute_result"
        }
      ]
    },
    {
      "cell_type" : "code",
      "execution_count" : 14,
      "metadata" : {
        "cell.metadata.exec_info" : {
          "startTs" : 1599777864741,
          "endTs" : 1599777865140
        },
        "language" : "scala"
      },
      "language" : "scala",
      "source" : [
        "val f = spark.sparkContext.textFile(\"/home/ec2-user/lab/twinkle/*.data\")"
      ],
      "outputs" : [
      ]
    },
    {
      "cell_type" : "code",
      "execution_count" : 15,
      "metadata" : {
        "cell.metadata.exec_info" : {
          "startTs" : 1599777868289,
          "endTs" : 1599777868636
        },
        "language" : "scala"
      },
      "language" : "scala",
      "source" : [
        "val filtered_5 = f.filter(line => line.contains(\"diamond\"))"
      ],
      "outputs" : [
      ]
    },
    {
      "cell_type" : "code",
      "execution_count" : 16,
      "metadata" : {
        "cell.metadata.exec_info" : {
          "startTs" : 1599777870596,
          "endTs" : 1599777885006
        },
        "language" : "scala"
      },
      "language" : "scala",
      "source" : [
        "filtered_5.count()"
      ],
      "outputs" : [
        {
          "execution_count" : 16,
          "data" : {
            "text/plain" : [
              "14066452"
            ]
          },
          "metadata" : {
            "name" : "Out",
            "type" : "Long"
          },
          "output_type" : "execute_result"
        }
      ]
    },
    {
      "cell_type" : "code",
      "execution_count" : 17,
      "metadata" : {
        "language" : "scala"
      },
      "language" : "scala",
      "source" : [
        "val u1 = spark.sparkContext.parallelize(List(\"m1\", \"m2\", \"m3\"))"
      ],
      "outputs" : [
      ]
    },
    {
      "cell_type" : "code",
      "execution_count" : 18,
      "metadata" : {
        "cell.metadata.exec_info" : {
          "startTs" : 1599781172464,
          "endTs" : 1599781172924
        },
        "language" : "scala"
      },
      "language" : "scala",
      "source" : [
        "val u2 = spark.sparkContext.parallelize(List(\"m2\",\"m3\",\"m4\",\"m5\"))"
      ],
      "outputs" : [
      ]
    },
    {
      "cell_type" : "code",
      "execution_count" : 19,
      "metadata" : {
        "cell.metadata.exec_info" : {
          "startTs" : 1599781896103,
          "endTs" : 1599781896425
        },
        "language" : "scala"
      },
      "language" : "scala",
      "source" : [
        "val all = u1.intersection(u2)"
      ],
      "outputs" : [
      ]
    },
    {
      "cell_type" : "code",
      "execution_count" : 20,
      "metadata" : {
        "cell.metadata.exec_info" : {
          "startTs" : 1599782056194,
          "endTs" : 1599782056476
        },
        "language" : "scala"
      },
      "language" : "scala",
      "source" : [
        "all.collect().foreach(a => println(a))"
      ],
      "outputs" : [
        {
          "name" : "stdout",
          "text" : [
            "m3\n",
            "m2\n"
          ],
          "output_type" : "stream"
        }
      ]
    },
    {
      "cell_type" : "code",
      "execution_count" : 21,
      "metadata" : {
        "cell.metadata.exec_info" : {
          "startTs" : 1599782359988,
          "endTs" : 1599782360486
        },
        "language" : "scala"
      },
      "language" : "scala",
      "source" : [
        "val total = u1.union(u2)"
      ],
      "outputs" : [
      ]
    },
    {
      "cell_type" : "code",
      "execution_count" : 22,
      "metadata" : {
        "cell.metadata.exec_info" : {
          "startTs" : 1599782564577,
          "endTs" : 1599782564839
        },
        "language" : "scala"
      },
      "language" : "scala",
      "source" : [
        "total.collect().foreach(x => println(x))"
      ],
      "outputs" : [
        {
          "name" : "stdout",
          "text" : [
            "m1\n",
            "m2\n",
            "m3\n",
            "m2\n",
            "m3\n",
            "m4\n",
            "m5\n"
          ],
          "output_type" : "stream"
        }
      ]
    },
    {
      "cell_type" : "code",
      "execution_count" : 23,
      "metadata" : {
        "cell.metadata.exec_info" : {
          "startTs" : 1599783010983,
          "endTs" : 1599783011382
        },
        "language" : "scala"
      },
      "language" : "scala",
      "source" : [
        "u1.union(u2).distinct.collect.foreach(println)"
      ],
      "outputs" : [
        {
          "name" : "stdout",
          "text" : [
            "m1\n",
            "m5\n",
            "m2\n",
            "m3\n",
            "m4\n"
          ],
          "output_type" : "stream"
        }
      ]
    }
  ]
}